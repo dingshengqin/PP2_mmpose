{
 "cells": [
  {
   "cell_type": "markdown",
   "id": "d428e1e5-5b7b-4e16-880c-bdb3d3d1f6e4",
   "metadata": {},
   "source": [
    "# person关键点检测-模型权重文件精简转换\n",
    "\n",
    "\n",
    "经过精简转换之后，模型.pth权重文件大小缩小为原来的一半以上，但不影响推理结果和推理速度"
   ]
  },
  {
   "cell_type": "markdown",
   "id": "8ee663cd-7c01-4693-b788-88b86672dcf9",
   "metadata": {},
   "source": [
    "## 模型精简转换"
   ]
  },
  {
   "cell_type": "code",
   "execution_count": 1,
   "id": "83e8f653-0f5d-46b1-85bb-f0e235badfba",
   "metadata": {},
   "outputs": [
    {
     "name": "stdout",
     "output_type": "stream",
     "text": [
      "12/04 08:39:53 - mmengine - \u001b[4m\u001b[97mINFO\u001b[0m - Key `message_hub` will be removed because it is not in save_keys. If you want to keep it, please set --save-keys.\n",
      "12/04 08:39:53 - mmengine - \u001b[4m\u001b[97mINFO\u001b[0m - Key `optimizer` will be removed because it is not in save_keys. If you want to keep it, please set --save-keys.\n",
      "12/04 08:39:53 - mmengine - \u001b[4m\u001b[97mINFO\u001b[0m - Key `param_schedulers` will be removed because it is not in save_keys. If you want to keep it, please set --save-keys.\n"
     ]
    }
   ],
   "source": [
    "!python mmpose/tools/misc/publish_model.py \\\n",
    "        mmpose/work_dirs/rtmpose-t_8xb256-420e_coco-256x192/epoch_100.pth \\\n",
    "        mmpose/checkpoint/rtmpose-t_8xb256-420e_coco-256x192-100.pth"
   ]
  },
  {
   "cell_type": "code",
   "execution_count": null,
   "id": "c48d0c2b-bdb1-4f63-9f0a-f485f37b1e4b",
   "metadata": {},
   "outputs": [],
   "source": []
  }
 ],
 "metadata": {
  "kernelspec": {
   "display_name": "Python 3 (ipykernel)",
   "language": "python",
   "name": "python3"
  },
  "language_info": {
   "codemirror_mode": {
    "name": "ipython",
    "version": 3
   },
   "file_extension": ".py",
   "mimetype": "text/x-python",
   "name": "python",
   "nbconvert_exporter": "python",
   "pygments_lexer": "ipython3",
   "version": "3.8.20"
  }
 },
 "nbformat": 4,
 "nbformat_minor": 5
}
