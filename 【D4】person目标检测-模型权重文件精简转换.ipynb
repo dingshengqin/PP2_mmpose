{
 "cells": [
  {
   "cell_type": "markdown",
   "id": "d428e1e5-5b7b-4e16-880c-bdb3d3d1f6e4",
   "metadata": {},
   "source": [
    "# 模型权重文件精简转换\n",
    "\n"
   ]
  },
  {
   "cell_type": "markdown",
   "id": "ee6e1cbd-326c-49fb-a77f-555252e5d179",
   "metadata": {},
   "source": [
    "## 模型轻量化转换"
   ]
  },
  {
   "cell_type": "code",
   "execution_count": 1,
   "id": "83e8f653-0f5d-46b1-85bb-f0e235badfba",
   "metadata": {},
   "outputs": [],
   "source": [
    "# Faster R CNN\n",
    "# !python mmdetection/tools/model_converters/publish_model.py \\\n",
    "#         mmdetection/work_dirs/faster_r_cnn_ding/epoch_21.pth \\\n",
    "#         mmdetection/checkpoint/faster_r_cnn_ding_epoch_21_202412021101.pth"
   ]
  },
  {
   "cell_type": "code",
   "execution_count": 1,
   "id": "c48d0c2b-bdb1-4f63-9f0a-f485f37b1e4b",
   "metadata": {},
   "outputs": [
    {
     "name": "stdout",
     "output_type": "stream",
     "text": [
      "12/05 16:14:24 - mmengine - \u001b[4m\u001b[97mINFO\u001b[0m - Key `message_hub` will be removed because it is not in save_keys. If you want to keep it, please set --save-keys.\n",
      "12/05 16:14:24 - mmengine - \u001b[4m\u001b[97mINFO\u001b[0m - Key `optimizer` will be removed because it is not in save_keys. If you want to keep it, please set --save-keys.\n",
      "12/05 16:14:24 - mmengine - \u001b[4m\u001b[97mINFO\u001b[0m - Key `param_schedulers` will be removed because it is not in save_keys. If you want to keep it, please set --save-keys.\n",
      "12/05 16:14:24 - mmengine - \u001b[4m\u001b[97mINFO\u001b[0m - Key `ema_state_dict` will be removed because it is not in save_keys. If you want to keep it, please set --save-keys.\n",
      "12/05 16:14:25 - mmengine - \u001b[4m\u001b[97mINFO\u001b[0m - The published model is saved at mmdetection/checkpoint/rtmdet_nano_320-8xb32_coco-person_epoch_300-179b8152.pth.\n"
     ]
    }
   ],
   "source": [
    "# RTMDet-nano\n",
    "!python mmdetection/tools/model_converters/publish_model.py \\\n",
    "        mmdetection/work_dirs/rtmdet_nano_320-8xb32_coco-person/epoch_300.pth \\\n",
    "        mmdetection/checkpoint/rtmdet_nano_320-8xb32_coco-person_epoch_300.pth"
   ]
  },
  {
   "cell_type": "markdown",
   "id": "bef2eb2b-ea1a-4dde-a5e2-c508ea37cb98",
   "metadata": {},
   "source": [
    "## 模型权重文件保存在`checkpoint`目录"
   ]
  },
  {
   "cell_type": "code",
   "execution_count": null,
   "id": "15ff1eb9-c9cb-4a7f-a6d5-d25e31968a46",
   "metadata": {},
   "outputs": [],
   "source": []
  }
 ],
 "metadata": {
  "kernelspec": {
   "display_name": "Python 3 (ipykernel)",
   "language": "python",
   "name": "python3"
  },
  "language_info": {
   "codemirror_mode": {
    "name": "ipython",
    "version": 3
   },
   "file_extension": ".py",
   "mimetype": "text/x-python",
   "name": "python",
   "nbconvert_exporter": "python",
   "pygments_lexer": "ipython3",
   "version": "3.8.20"
  }
 },
 "nbformat": 4,
 "nbformat_minor": 5
}
