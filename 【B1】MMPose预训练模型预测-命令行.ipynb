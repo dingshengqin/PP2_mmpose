{
 "cells": [
  {
   "cell_type": "markdown",
   "id": "784ce4a0-b0db-42c8-8c29-0dd3314fe397",
   "metadata": {},
   "source": [
    "# MMPose预训练模型预测-命令行\n",
    "\n"
   ]
  },
  {
   "cell_type": "markdown",
   "id": "15ce5360-b4e1-4c51-be8b-2754aaf0da25",
   "metadata": {},
   "source": [
    "## 模型库预训练模型\n",
    "\n",
    "- 目标检测模型\n",
    "\n",
    "MMDetection模型库：https://github.com/open-mmlab/mmdetection/blob/master/docs/en/model_zoo.md\n",
    "\n",
    "demo/mmdetection_cfg/faster_rcnn_r50_fpn_coco.py\n",
    "\n",
    "https://download.openmmlab.com/mmdetection/v2.0/faster_rcnn/faster_rcnn_r50_fpn_1x_coco/faster_rcnn_r50_fpn_1x_coco_20200130-047c8118.pth\n",
    "\n",
    "- MMPose人体姿态估计模型\n",
    "\n",
    "configs/body_2d_keypoint/topdown_heatmap/coco/td-hm_hrnet-w32_8xb64-210e_coco-256x192.py\n",
    "\n",
    "https://download.openmmlab.com/mmpose/top_down/hrnet/hrnet_w32_coco_256x192-c78dce93_20200708.pth\n",
    "\n",
    "- RTMPose人体姿态估计模型\n",
    "\n",
    "RTMPose主页：https://github.com/open-mmlab/mmpose/tree/dev-1.x/projects/rtmpose\n",
    "\n",
    "> RTMPose-S\n",
    "\n",
    "projects/rtmpose/rtmpose/body_2d_keypoint/rtmpose-s_8xb256-420e_coco-256x192.py\n",
    "\n",
    "https://download.openmmlab.com/mmpose/v1/projects/rtmpose/rtmpose-s_simcc-aic-coco_pt-aic-coco_420e-256x192-fcb2599b_20230126.pth\n",
    "\n",
    "> RTMPose-L\n",
    "\n",
    "projects/rtmpose/rtmpose/body_2d_keypoint/rtmpose-l_8xb256-420e_coco-384x288.py\n",
    "\n",
    "https://download.openmmlab.com/mmpose/v1/projects/rtmpose/rtmpose-l_simcc-aic-coco_pt-aic-coco_420e-384x288-97d6cb0f_20230228.pth"
   ]
  },
  {
   "cell_type": "markdown",
   "id": "a74faf58-4237-42e6-be61-b0c7e262fc6e",
   "metadata": {},
   "source": [
    "## 预测单张图像"
   ]
  },
  {
   "cell_type": "code",
   "execution_count": 3,
   "id": "67499aff-d83e-4fee-8db9-f5d68388fdb5",
   "metadata": {},
   "outputs": [
    {
     "name": "stdout",
     "output_type": "stream",
     "text": [
      "Loads checkpoint by local backend from path: mmdetection/checkpoint/faster_rcnn_r50_fpn_1x_coco_20200130-047c8118.pth\n",
      "The model and loaded state dict do not match exactly\n",
      "\n",
      "size mismatch for roi_head.bbox_head.fc_cls.weight: copying a param with shape torch.Size([81, 1024]) from checkpoint, the shape in current model is torch.Size([2, 1024]).\n",
      "size mismatch for roi_head.bbox_head.fc_cls.bias: copying a param with shape torch.Size([81]) from checkpoint, the shape in current model is torch.Size([2]).\n",
      "size mismatch for roi_head.bbox_head.fc_reg.weight: copying a param with shape torch.Size([320, 1024]) from checkpoint, the shape in current model is torch.Size([4, 1024]).\n",
      "size mismatch for roi_head.bbox_head.fc_reg.bias: copying a param with shape torch.Size([320]) from checkpoint, the shape in current model is torch.Size([4]).\n",
      "Loads checkpoint by local backend from path: mmpose/checkpoint/top_down/hrnet/hrnet_w32_coco_256x192-c78dce93_20200708.pth\n",
      "/home/dshengq/anaconda3/envs/openmmlab/lib/python3.8/site-packages/mmpose/datasets/datasets/utils.py:102: UserWarning: The metainfo config file \"configs/_base_/datasets/coco.py\" does not exist. A matched config file \"/home/dshengq/anaconda3/envs/openmmlab/lib/python3.8/site-packages/mmpose/.mim/configs/_base_/datasets/coco.py\" will be used instead.\n",
      "  warnings.warn(\n",
      "/home/dshengq/anaconda3/envs/openmmlab/lib/python3.8/site-packages/mmengine/visualization/visualizer.py:196: UserWarning: Failed to add <class 'mmengine.visualization.vis_backend.LocalVisBackend'>, please provide the `save_dir` argument.\n",
      "  warnings.warn(f'Failed to add {vis_backend.__class__}, '\n",
      "12/05 15:21:02 - mmengine - \u001b[4m\u001b[97mINFO\u001b[0m - the output image has been saved at mmpose/outputs/B1_HRNet_1/multi-person.jpg\n"
     ]
    }
   ],
   "source": [
    "# HRNet\n",
    "!python mmpose/demo/topdown_demo_with_mmdet.py \\\n",
    "        mmpose/demo/mmdetection_cfg/faster_rcnn_r50_fpn_coco.py \\\n",
    "        mmdetection/checkpoint/faster_rcnn_r50_fpn_1x_coco_20200130-047c8118.pth \\\n",
    "        mmpose/configs/body_2d_keypoint/topdown_heatmap/coco/td-hm_hrnet-w32_8xb64-210e_coco-256x192.py \\\n",
    "        mmpose/checkpoint/top_down/hrnet/hrnet_w32_coco_256x192-c78dce93_20200708.pth \\\n",
    "        --input data/multi-person.jpg \\\n",
    "        --output-root mmpose/outputs/B1_HRNet_1 \\\n",
    "        --device cuda:0 \\\n",
    "        --bbox-thr 0.5 \\\n",
    "        --kpt-thr 0.2 \\\n",
    "        --nms-thr 0.3 \\\n",
    "        --radius 8 \\\n",
    "        --thickness 4 \\\n",
    "        --draw-bbox \\\n",
    "        --draw-heatmap \\\n",
    "        --show-kpt-idx"
   ]
  },
  {
   "cell_type": "code",
   "execution_count": 4,
   "id": "93eefc16-24d5-46b9-b401-72534458b3dd",
   "metadata": {},
   "outputs": [
    {
     "name": "stdout",
     "output_type": "stream",
     "text": [
      "Loads checkpoint by local backend from path: mmdetection/checkpoint/faster_rcnn_r50_fpn_1x_coco_20200130-047c8118.pth\n",
      "The model and loaded state dict do not match exactly\n",
      "\n",
      "size mismatch for roi_head.bbox_head.fc_cls.weight: copying a param with shape torch.Size([81, 1024]) from checkpoint, the shape in current model is torch.Size([2, 1024]).\n",
      "size mismatch for roi_head.bbox_head.fc_cls.bias: copying a param with shape torch.Size([81]) from checkpoint, the shape in current model is torch.Size([2]).\n",
      "size mismatch for roi_head.bbox_head.fc_reg.weight: copying a param with shape torch.Size([320, 1024]) from checkpoint, the shape in current model is torch.Size([4, 1024]).\n",
      "size mismatch for roi_head.bbox_head.fc_reg.bias: copying a param with shape torch.Size([320]) from checkpoint, the shape in current model is torch.Size([4]).\n",
      "Loads checkpoint by local backend from path: mmpose/checkpoint/rtmpose-s_simcc-aic-coco_pt-aic-coco_420e-256x192-fcb2599b_20230126.pth\n",
      "/home/dshengq/anaconda3/envs/openmmlab/lib/python3.8/site-packages/mmengine/visualization/visualizer.py:196: UserWarning: Failed to add <class 'mmengine.visualization.vis_backend.LocalVisBackend'>, please provide the `save_dir` argument.\n",
      "  warnings.warn(f'Failed to add {vis_backend.__class__}, '\n",
      "/home/dshengq/anaconda3/envs/openmmlab/lib/python3.8/site-packages/mmpose/models/heads/coord_cls_heads/rtmcc_head.py:217: UserWarning: The predicted simcc values are normalized for visualization. This may cause discrepancy between the keypoint scores and the 1D heatmaps.\n",
      "  warnings.warn('The predicted simcc values are normalized for '\n",
      "/home/dshengq/anaconda3/envs/openmmlab/lib/python3.8/site-packages/mmengine/visualization/visualizer.py:760: UserWarning: Warning: The bbox is out of bounds, the drawn bbox may not be in the image\n",
      "  warnings.warn(\n",
      "/home/dshengq/anaconda3/envs/openmmlab/lib/python3.8/site-packages/mmengine/visualization/visualizer.py:831: UserWarning: Warning: The polygon is out of bounds, the drawn polygon may not be in the image\n",
      "  warnings.warn(\n",
      "12/05 15:23:58 - mmengine - \u001b[4m\u001b[97mINFO\u001b[0m - the output image has been saved at mmpose/outputs/B1_RTM_1/multi-person.jpg\n"
     ]
    }
   ],
   "source": [
    "# RTMPose\n",
    "!python mmpose/demo/topdown_demo_with_mmdet.py \\\n",
    "        mmpose/demo/mmdetection_cfg/faster_rcnn_r50_fpn_coco.py \\\n",
    "        mmdetection/checkpoint/faster_rcnn_r50_fpn_1x_coco_20200130-047c8118.pth \\\n",
    "        mmpose/projects/rtmpose/rtmpose/body_2d_keypoint/rtmpose-s_8xb256-420e_coco-256x192.py \\\n",
    "        mmpose/checkpoint/rtmpose-s_simcc-aic-coco_pt-aic-coco_420e-256x192-fcb2599b_20230126.pth \\\n",
    "        --input data/multi-person.jpg \\\n",
    "        --output-root mmpose/outputs/B1_RTM_1 \\\n",
    "        --device cuda:0 \\\n",
    "        --bbox-thr 0.5 \\\n",
    "        --kpt-thr 0.5 \\\n",
    "        --nms-thr 0.3 \\\n",
    "        --radius 8 \\\n",
    "        --thickness 4 \\\n",
    "        --draw-bbox \\\n",
    "        --draw-heatmap \\\n",
    "        --show-kpt-idx"
   ]
  },
  {
   "cell_type": "markdown",
   "id": "34c88527-125b-46da-9d89-9c07fccad9a5",
   "metadata": {},
   "source": [
    "## 预测视频：直接将`--input`换成视频路径即可"
   ]
  },
  {
   "cell_type": "code",
   "execution_count": 1,
   "id": "371d4c31-eb0f-4469-a5ec-cf73989c357d",
   "metadata": {},
   "outputs": [
    {
     "name": "stdout",
     "output_type": "stream",
     "text": [
      "Loads checkpoint by local backend from path: mmdetection/checkpoint/faster_rcnn_r50_fpn_1x_coco_20200130-047c8118.pth\n",
      "The model and loaded state dict do not match exactly\n",
      "\n",
      "size mismatch for roi_head.bbox_head.fc_cls.weight: copying a param with shape torch.Size([81, 1024]) from checkpoint, the shape in current model is torch.Size([2, 1024]).\n",
      "size mismatch for roi_head.bbox_head.fc_cls.bias: copying a param with shape torch.Size([81]) from checkpoint, the shape in current model is torch.Size([2]).\n",
      "size mismatch for roi_head.bbox_head.fc_reg.weight: copying a param with shape torch.Size([320, 1024]) from checkpoint, the shape in current model is torch.Size([4, 1024]).\n",
      "size mismatch for roi_head.bbox_head.fc_reg.bias: copying a param with shape torch.Size([320]) from checkpoint, the shape in current model is torch.Size([4]).\n",
      "Loads checkpoint by local backend from path: mmpose/checkpoint/top_down/hrnet/hrnet_w32_coco_256x192-c78dce93_20200708.pth\n",
      "/home/dshengq/anaconda3/envs/openmmlab/lib/python3.8/site-packages/mmpose/datasets/datasets/utils.py:102: UserWarning: The metainfo config file \"configs/_base_/datasets/coco.py\" does not exist. A matched config file \"/home/dshengq/anaconda3/envs/openmmlab/lib/python3.8/site-packages/mmpose/.mim/configs/_base_/datasets/coco.py\" will be used instead.\n",
      "  warnings.warn(\n",
      "/home/dshengq/anaconda3/envs/openmmlab/lib/python3.8/site-packages/mmengine/visualization/visualizer.py:196: UserWarning: Failed to add <class 'mmengine.visualization.vis_backend.LocalVisBackend'>, please provide the `save_dir` argument.\n",
      "  warnings.warn(f'Failed to add {vis_backend.__class__}, '\n",
      "/home/dshengq/anaconda3/envs/openmmlab/lib/python3.8/site-packages/mmengine/visualization/visualizer.py:683: UserWarning: Warning: The circle is out of bounds, the drawn circle may not be in the image\n",
      "  warnings.warn(\n",
      "/home/dshengq/anaconda3/envs/openmmlab/lib/python3.8/site-packages/mmengine/visualization/visualizer.py:760: UserWarning: Warning: The bbox is out of bounds, the drawn bbox may not be in the image\n",
      "  warnings.warn(\n",
      "/home/dshengq/anaconda3/envs/openmmlab/lib/python3.8/site-packages/mmengine/visualization/visualizer.py:831: UserWarning: Warning: The polygon is out of bounds, the drawn polygon may not be in the image\n",
      "  warnings.warn(\n",
      "/home/dshengq/anaconda3/envs/openmmlab/lib/python3.8/site-packages/mmengine/visualization/visualizer.py:508: UserWarning: Warning: The text is out of bounds, the drawn text may not be in the image\n",
      "  warnings.warn(\n"
     ]
    }
   ],
   "source": [
    "# HRNet\n",
    "!python mmpose/demo/topdown_demo_with_mmdet.py \\\n",
    "        mmpose/demo/mmdetection_cfg/faster_rcnn_r50_fpn_coco.py \\\n",
    "        mmdetection/checkpoint/faster_rcnn_r50_fpn_1x_coco_20200130-047c8118.pth \\\n",
    "        mmpose/configs/body_2d_keypoint/topdown_heatmap/coco/td-hm_hrnet-w32_8xb64-210e_coco-256x192.py \\\n",
    "        mmpose/checkpoint/top_down/hrnet/hrnet_w32_coco_256x192-c78dce93_20200708.pth \\\n",
    "        --input data/montage.mp4 \\\n",
    "        --output-root mmpose/outputs/B1_HRNet_2 \\\n",
    "        --device cuda:0 \\\n",
    "        --bbox-thr 0.5 \\\n",
    "        --kpt-thr 0.2 \\\n",
    "        --nms-thr 0.3 \\\n",
    "        --radius 5 \\\n",
    "        --thickness 2 \\\n",
    "        --draw-bbox \\\n",
    "        --draw-heatmap \\\n",
    "        --show-kpt-idx"
   ]
  },
  {
   "cell_type": "code",
   "execution_count": 10,
   "id": "778ee737-44fc-4fc6-a31f-16aff9008a8d",
   "metadata": {},
   "outputs": [
    {
     "name": "stdout",
     "output_type": "stream",
     "text": [
      "Loads checkpoint by http backend from path: https://download.openmmlab.com/mmdetection/v2.0/faster_rcnn/faster_rcnn_r50_fpn_1x_coco/faster_rcnn_r50_fpn_1x_coco_20200130-047c8118.pth\n",
      "Loads checkpoint by http backend from path: https://download.openmmlab.com/mmpose/v1/projects/rtmpose/rtmpose-s_simcc-aic-coco_pt-aic-coco_420e-256x192-fcb2599b_20230126.pth\n",
      "/home/dshengq/anaconda3/envs/openmmlab/lib/python3.8/site-packages/mmengine/visualization/visualizer.py:196: UserWarning: Failed to add <class 'mmengine.visualization.vis_backend.LocalVisBackend'>, please provide the `save_dir` argument.\n",
      "  warnings.warn(f'Failed to add {vis_backend.__class__}, '\n",
      "/home/dshengq/anaconda3/envs/openmmlab/lib/python3.8/site-packages/mmpose/models/heads/coord_cls_heads/rtmcc_head.py:217: UserWarning: The predicted simcc values are normalized for visualization. This may cause discrepancy between the keypoint scores and the 1D heatmaps.\n",
      "  warnings.warn('The predicted simcc values are normalized for '\n",
      "/home/dshengq/anaconda3/envs/openmmlab/lib/python3.8/site-packages/mmengine/visualization/visualizer.py:760: UserWarning: Warning: The bbox is out of bounds, the drawn bbox may not be in the image\n",
      "  warnings.warn(\n",
      "/home/dshengq/anaconda3/envs/openmmlab/lib/python3.8/site-packages/mmengine/visualization/visualizer.py:831: UserWarning: Warning: The polygon is out of bounds, the drawn polygon may not be in the image\n",
      "  warnings.warn(\n",
      "/home/dshengq/anaconda3/envs/openmmlab/lib/python3.8/site-packages/mmengine/visualization/visualizer.py:683: UserWarning: Warning: The circle is out of bounds, the drawn circle may not be in the image\n",
      "  warnings.warn(\n",
      "/home/dshengq/anaconda3/envs/openmmlab/lib/python3.8/site-packages/mmengine/visualization/visualizer.py:508: UserWarning: Warning: The text is out of bounds, the drawn text may not be in the image\n",
      "  warnings.warn(\n",
      "11/28 10:02:20 - mmengine - \u001b[4m\u001b[97mINFO\u001b[0m - the output video has been saved at mmpose/outputs/B1_RTM_2/montage.mp4\n"
     ]
    }
   ],
   "source": [
    "# RTMPose\n",
    "!python mmpose/demo/topdown_demo_with_mmdet.py \\\n",
    "        mmpose/demo/mmdetection_cfg/faster_rcnn_r50_fpn_coco.py \\\n",
    "        mmdetection/checkpoint/faster_rcnn_r50_fpn_1x_coco_20200130-047c8118.pth \\\n",
    "        mmpose/projects/rtmpose/rtmpose/body_2d_keypoint/rtmpose-s_8xb256-420e_coco-256x192.py \\\n",
    "        mmpose/checkpoint/rtmpose-s_simcc-aic-coco_pt-aic-coco_420e-256x192-fcb2599b_20230126.pth \\\n",
    "        --input data/montage.mp4\\\n",
    "        --output-root mmpose/outputs/B1_RTM_2 \\\n",
    "        --device cuda:0 \\\n",
    "        --bbox-thr 0.5 \\\n",
    "        --kpt-thr 0.5 \\\n",
    "        --nms-thr 0.3 \\\n",
    "        --radius 5 \\\n",
    "        --thickness 2 \\\n",
    "        --draw-bbox \\\n",
    "        --draw-heatmap \\\n",
    "        --show-kpt-idx"
   ]
  },
  {
   "cell_type": "code",
   "execution_count": null,
   "id": "3f18b27e-1e97-45f7-b2e6-57215bfa6de2",
   "metadata": {},
   "outputs": [],
   "source": []
  }
 ],
 "metadata": {
  "kernelspec": {
   "display_name": "Python 3 (ipykernel)",
   "language": "python",
   "name": "python3"
  },
  "language_info": {
   "codemirror_mode": {
    "name": "ipython",
    "version": 3
   },
   "file_extension": ".py",
   "mimetype": "text/x-python",
   "name": "python",
   "nbconvert_exporter": "python",
   "pygments_lexer": "ipython3",
   "version": "3.8.20"
  }
 },
 "nbformat": 4,
 "nbformat_minor": 5
}
