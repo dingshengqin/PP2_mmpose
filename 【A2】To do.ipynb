{
 "cells": [
  {
   "cell_type": "markdown",
   "id": "bc3d1961-9081-49c9-be56-ad0c748decf1",
   "metadata": {},
   "source": [
    "# Todo list"
   ]
  },
  {
   "cell_type": "markdown",
   "id": "0fc8ebd8-db6e-4a17-895f-2f87fc98ca79",
   "metadata": {},
   "source": [
    "- mmpose 的输出result是否能包含时间戳信息和动作类型信息\n",
    "- mmpose和mmaction的关联\n",
    "- 推力器模式的研究和添加\n",
    "- 搞不懂为啥【B2】输出图片画了那么多框,但是【E2】没有那么多框，是可视化函数的问题吗？\n",
    "- 模型训练config文件里面的配置信息的微调\n",
    "- 基础模型选择什么？ 如果是基于别人已经训练好的模型是否更难按照我们的要求训练？\n",
    "- 代码没有从头到尾用统一的模型，有的时候用的官方模型，有的时候用的自己训练的模型"
   ]
  }
 ],
 "metadata": {
  "kernelspec": {
   "display_name": "Python 3 (ipykernel)",
   "language": "python",
   "name": "python3"
  },
  "language_info": {
   "codemirror_mode": {
    "name": "ipython",
    "version": 3
   },
   "file_extension": ".py",
   "mimetype": "text/x-python",
   "name": "python",
   "nbconvert_exporter": "python",
   "pygments_lexer": "ipython3",
   "version": "3.8.20"
  }
 },
 "nbformat": 4,
 "nbformat_minor": 5
}
