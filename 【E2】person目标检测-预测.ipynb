{
 "cells": [
  {
   "cell_type": "markdown",
   "id": "ab3fbe6f-6d2f-4a00-abd4-04a486d98fd1",
   "metadata": {},
   "source": [
    "# 目标检测-预测\n",
    "\n"
   ]
  },
  {
   "cell_type": "markdown",
   "id": "165bbef3-c3d3-49ad-8308-9c6c2ee691f0",
   "metadata": {},
   "source": [
    "## 目标检测预测-单张图像"
   ]
  },
  {
   "cell_type": "code",
   "execution_count": 2,
   "id": "ffa84a03-216f-4b08-91db-73a1d22b4424",
   "metadata": {},
   "outputs": [
    {
     "name": "stdout",
     "output_type": "stream",
     "text": [
      "Loads checkpoint by local backend from path: mmdetection/checkpoint/faster_r_cnn_ding_epoch_21_202412021101-66a40153.pth\n",
      "12/05 16:27:03 - mmengine - \u001b[5m\u001b[4m\u001b[33mWARNING\u001b[0m - Failed to search registry with scope \"mmdet\" in the \"function\" registry tree. As a workaround, the current \"function\" registry in \"mmengine\" is used to build instance. This may cause unexpected failure when running the built modules. Please check whether \"mmdet\" is a correct scope, or whether the registry is initialized.\n",
      "/home/dshengq/anaconda3/envs/openmmlab/lib/python3.8/site-packages/mmengine/visualization/visualizer.py:196: UserWarning: Failed to add <class 'mmengine.visualization.vis_backend.LocalVisBackend'>, please provide the `save_dir` argument.\n",
      "  warnings.warn(f'Failed to add {vis_backend.__class__}, '\n",
      "\u001b[2KInference \u001b[90m━\u001b[0m\u001b[90m━\u001b[0m\u001b[90m━\u001b[0m\u001b[90m━\u001b[0m\u001b[90m━\u001b[0m\u001b[90m━\u001b[0m\u001b[90m━\u001b[0m\u001b[90m━\u001b[0m\u001b[35m━\u001b[0m\u001b[91m━\u001b[0m\u001b[91m━\u001b[0m\u001b[91m━\u001b[0m\u001b[91m━\u001b[0m\u001b[91m━\u001b[0m\u001b[91m━\u001b[0m\u001b[91m━\u001b[0m\u001b[35m━\u001b[0m\u001b[90m━\u001b[0m\u001b[90m━\u001b[0m\u001b[90m━\u001b[0m\u001b[90m━\u001b[0m\u001b[90m━\u001b[0m\u001b[90m━\u001b[0m\u001b[90m━\u001b[0m\u001b[90m━\u001b[0m\u001b[90m━\u001b[0m\u001b[90m━\u001b[0m\u001b[90m━\u001b[0m\u001b[35m━\u001b[0m\u001b[91m━\u001b[0m\u001b[91m━\u001b[0m\u001b[91m━\u001b[0m\u001b[91m━\u001b[0m\u001b[91m━\u001b[0m\u001b[91m━\u001b[0m\u001b[91m━\u001b[0m\u001b[35m━\u001b[0m\u001b[90m━\u001b[0m\u001b[90m━\u001b[0m\u001b[90m━\u001b[0m  \u001b[36m \u001b[0m\n",
      "\u001b[?25hresults have been saved at mmdetection/outputs/E2_faster_r_cnn\n"
     ]
    }
   ],
   "source": [
    "# Faster R CNN\n",
    "!python mmdetection/demo/image_demo.py \\\n",
    "        data/multi-person.jpg \\\n",
    "        mmpose/demo/mmdetection_cfg/faster_r_cnn_ding_copy.py \\\n",
    "        --weights mmdetection/checkpoint/faster_r_cnn_ding_epoch_21_202412021101-66a40153.pth \\\n",
    "        --out-dir mmdetection/outputs/E2_faster_r_cnn \\\n",
    "        --device cuda:0 \\\n",
    "        --pred-score-thr 0.3"
   ]
  },
  {
   "cell_type": "code",
   "execution_count": 2,
   "id": "b82b7b68-ff31-4b90-a005-d56d0e9416d0",
   "metadata": {
    "tags": []
   },
   "outputs": [
    {
     "name": "stdout",
     "output_type": "stream",
     "text": [
      "Loads checkpoint by local backend from path: mmdetection/checkpoint/rtmdet_nano_320-8xb32_coco-person_epoch_300_202412021101-45c2ddd9.pth\n",
      "12/02 17:39:46 - mmengine - \u001b[5m\u001b[4m\u001b[33mWARNING\u001b[0m - Failed to search registry with scope \"mmdet\" in the \"function\" registry tree. As a workaround, the current \"function\" registry in \"mmengine\" is used to build instance. This may cause unexpected failure when running the built modules. Please check whether \"mmdet\" is a correct scope, or whether the registry is initialized.\n",
      "/home/dshengq/anaconda3/envs/openmmlab/lib/python3.8/site-packages/mmengine/visualization/visualizer.py:196: UserWarning: Failed to add <class 'mmengine.visualization.vis_backend.LocalVisBackend'>, please provide the `save_dir` argument.\n",
      "  warnings.warn(f'Failed to add {vis_backend.__class__}, '\n",
      "\u001b[2K/home/dshengq/anaconda3/envs/openmmlab/lib/python3.8/site-packages/torch/functio\u001b[35m━\u001b[0m\u001b[90m━\u001b[0m\u001b[90m━\u001b[0m\u001b[90m━\u001b[0m\u001b[90m━\u001b[0m\u001b[90m━\u001b[0m\u001b[90m━\u001b[0m\u001b[90m━\u001b[0m\u001b[90m━\u001b[0m\u001b[90m━\u001b[0m\u001b[90m━\u001b[0m\u001b[90m━\u001b[0m\u001b[35m━\u001b[0m\u001b[91m━\u001b[0m\u001b[91m━\u001b[0m\u001b[91m━\u001b[0m\u001b[91m━\u001b[0m\u001b[91m━\u001b[0m\u001b[91m━\u001b[0m\u001b[91m━\u001b[0m\u001b[35m━\u001b[0m\u001b[90m━\u001b[0m\u001b[90m━\u001b[0m\u001b[90m━\u001b[0m\u001b[90m━\u001b[0m\u001b[90m━\u001b[0m\u001b[90m━\u001b[0m\u001b[90m━\u001b[0m\u001b[90m━\u001b[0m\u001b[90m━\u001b[0m\u001b[90m━\u001b[0m\u001b[90m━\u001b[0m\u001b[35m━\u001b[0m  \u001b[36m \u001b[0m\n",
      "nal.py:504: UserWarning: torch.meshgrid: in an upcoming release, it will be \n",
      "required to pass the indexing argument. (Triggered internally at \n",
      "/opt/conda/conda-bld/pytorch_1682343998658/work/aten/src/ATen/native/TensorShape\n",
      ".cpp:3483.)\n",
      "  return _VF.meshgrid(tensors, **kwargs)  # type: ignore[attr-defined]\n",
      "\u001b[2KInference \u001b[90m━\u001b[0m\u001b[35m━\u001b[0m\u001b[91m━\u001b[0m\u001b[91m━\u001b[0m\u001b[91m━\u001b[0m\u001b[91m━\u001b[0m\u001b[91m━\u001b[0m\u001b[91m━\u001b[0m\u001b[91m━\u001b[0m\u001b[35m━\u001b[0m\u001b[90m━\u001b[0m\u001b[90m━\u001b[0m\u001b[90m━\u001b[0m\u001b[90m━\u001b[0m\u001b[90m━\u001b[0m\u001b[90m━\u001b[0m\u001b[90m━\u001b[0m\u001b[90m━\u001b[0m\u001b[90m━\u001b[0m\u001b[90m━\u001b[0m\u001b[90m━\u001b[0m\u001b[35m━\u001b[0m\u001b[91m━\u001b[0m\u001b[91m━\u001b[0m\u001b[91m━\u001b[0m\u001b[91m━\u001b[0m\u001b[91m━\u001b[0m\u001b[91m━\u001b[0m\u001b[91m━\u001b[0m\u001b[35m━\u001b[0m\u001b[90m━\u001b[0m\u001b[90m━\u001b[0m\u001b[90m━\u001b[0m\u001b[90m━\u001b[0m\u001b[90m━\u001b[0m\u001b[90m━\u001b[0m\u001b[90m━\u001b[0m\u001b[90m━\u001b[0m\u001b[90m━\u001b[0m\u001b[90m━\u001b[0m  \u001b[36m \u001b[0m\n",
      "\u001b[?25hresults have been saved at mmdetection/outputs/E2_rtmdet\n"
     ]
    }
   ],
   "source": [
    "# RTMDet\n",
    "!python mmdetection/demo/image_demo.py \\\n",
    "        data/multi-person.jpg \\\n",
    "        mmpose/demo/mmdetection_cfg/rtmdet_nano_320-8xb32_coco-person.py \\\n",
    "        --weights mmdetection/checkpoint/rtmdet_nano_320-8xb32_coco-person_epoch_300_202412021101-45c2ddd9.pth \\\n",
    "        --out-dir mmdetection/outputs/E2_rtmdet \\\n",
    "        --device cuda:0 \\\n",
    "        --pred-score-thr 0.3"
   ]
  },
  {
   "cell_type": "markdown",
   "id": "66e27a2b-e77a-4377-a28a-69eadce8b49c",
   "metadata": {},
   "source": [
    "## 目标检测预测-视频"
   ]
  },
  {
   "cell_type": "code",
   "execution_count": 3,
   "id": "0321b7be-6d8f-45af-afc4-5b980e9c4537",
   "metadata": {},
   "outputs": [
    {
     "name": "stdout",
     "output_type": "stream",
     "text": [
      "Loads checkpoint by local backend from path: mmdetection/checkpoint/faster_r_cnn_ding_epoch_21_202412021101-66a40153.pth\n",
      "/home/dshengq/anaconda3/envs/openmmlab/lib/python3.8/site-packages/mmengine/visualization/visualizer.py:196: UserWarning: Failed to add <class 'mmengine.visualization.vis_backend.LocalVisBackend'>, please provide the `save_dir` argument.\n",
      "  warnings.warn(f'Failed to add {vis_backend.__class__}, '\n",
      "/home/dshengq/anaconda3/envs/openmmlab/lib/python3.8/site-packages/mmengine/visualization/visualizer.py:760: UserWarning: Warning: The bbox is out of bounds, the drawn bbox may not be in the image\n",
      "  warnings.warn(\n",
      "/home/dshengq/anaconda3/envs/openmmlab/lib/python3.8/site-packages/mmengine/visualization/visualizer.py:831: UserWarning: Warning: The polygon is out of bounds, the drawn polygon may not be in the image\n",
      "  warnings.warn(\n"
     ]
    }
   ],
   "source": [
    "# Faster R CNN\n",
    "!python mmdetection/demo/video_demo.py \\\n",
    "        data/montage.mp4 \\\n",
    "        mmpose/demo/mmdetection_cfg/faster_r_cnn_ding_copy.py \\\n",
    "        mmdetection/checkpoint/faster_r_cnn_ding_epoch_21_202412021101-66a40153.pth \\\n",
    "        --device cuda:0 \\\n",
    "        --score-thr 0.96 \\\n",
    "        --out mmdetection/outputs/E2_rtmdet_video/montage.mp4"
   ]
  },
  {
   "cell_type": "code",
   "execution_count": null,
   "id": "14a4f4c4-12f2-43dc-ad24-faf57d26bc27",
   "metadata": {},
   "outputs": [
    {
     "name": "stdout",
     "output_type": "stream",
     "text": [
      "Traceback (most recent call last):\n",
      "  File \"mmdetection/demo/video_demo.py\", line 84, in <module>\n",
      "    main()\n",
      "  File \"mmdetection/demo/video_demo.py\", line 40, in main\n",
      "    model = init_detector(args.config, args.checkpoint, device=args.device)\n",
      "  File \"/home/dshengq/github/openmmlab/mmdetection/mmdet/apis/inference.py\", line 53, in init_detector\n",
      "    config = Config.fromfile(config)\n",
      "  File \"/home/dshengq/anaconda3/envs/openmmlab/lib/python3.8/site-packages/mmengine/config/config.py\", line 460, in fromfile\n",
      "    lazy_import is None and not Config._is_lazy_import(filename):\n",
      "  File \"/home/dshengq/anaconda3/envs/openmmlab/lib/python3.8/site-packages/mmengine/config/config.py\", line 1661, in _is_lazy_import\n",
      "    with open(filename, encoding='utf-8') as f:\n",
      "FileNotFoundError: [Errno 2] No such file or directory: 'data/rtmdet_nano_320-8xb32_coco-person.py'\n"
     ]
    }
   ],
   "source": [
    "# RTMDet\n",
    "!python mmdetection/demo/video_demo.py \\\n",
    "        data/montage.mp4 \\\n",
    "        mmpose/demo/mmdetection_cfg/rtmdet_nano_320-8xb32_coco-person.py \\\n",
    "        mmdetection/checkpoint/rtmdet_nano_320-8xb32_coco-person_epoch_300_202412021101-45c2ddd9.pth \\\n",
    "        --device cuda:0 \\\n",
    "        --score-thr 0.6 \\\n",
    "        --out mmdetection/outputs/E2_rtmdet_video/montage.mp4"
   ]
  }
 ],
 "metadata": {
  "kernelspec": {
   "display_name": "Python 3 (ipykernel)",
   "language": "python",
   "name": "python3"
  },
  "language_info": {
   "codemirror_mode": {
    "name": "ipython",
    "version": 3
   },
   "file_extension": ".py",
   "mimetype": "text/x-python",
   "name": "python",
   "nbconvert_exporter": "python",
   "pygments_lexer": "ipython3",
   "version": "3.8.20"
  }
 },
 "nbformat": 4,
 "nbformat_minor": 5
}
