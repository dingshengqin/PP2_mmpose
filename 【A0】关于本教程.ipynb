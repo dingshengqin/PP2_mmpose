{
 "cells": [
  {
   "cell_type": "markdown",
   "id": "4219b911-3e91-4ed5-bf03-e89336c24be9",
   "metadata": {
    "tags": []
   },
   "source": [
    "本教程在同济子豪兄三角尺的基础上，训练了人体姿势的识别，后续会训练添加包含自定义的字段的数据集\n",
    "\n",
    "特别感谢：\n",
    "张子豪（同济子豪兄）：https://space.bilibili.com/1900783\n",
    "\n",
    "\n",
    "\n"
   ]
  },
  {
   "cell_type": "code",
   "execution_count": null,
   "id": "ea14604c-6666-4305-ac0e-fd4e738f190d",
   "metadata": {},
   "outputs": [],
   "source": []
  }
 ],
 "metadata": {
  "kernelspec": {
   "display_name": "Python 3 (ipykernel)",
   "language": "python",
   "name": "python3"
  },
  "language_info": {
   "codemirror_mode": {
    "name": "ipython",
    "version": 3
   },
   "file_extension": ".py",
   "mimetype": "text/x-python",
   "name": "python",
   "nbconvert_exporter": "python",
   "pygments_lexer": "ipython3",
   "version": "3.7.10"
  }
 },
 "nbformat": 4,
 "nbformat_minor": 5
}
