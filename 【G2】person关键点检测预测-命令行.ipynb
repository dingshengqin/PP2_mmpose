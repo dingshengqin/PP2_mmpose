{
 "cells": [
  {
   "cell_type": "markdown",
   "id": "466a64ed-7068-4a92-9755-84ea56de799d",
   "metadata": {},
   "source": [
    "# person关键点检测预测-命令行\n",
    "\n"
   ]
  },
  {
   "cell_type": "code",
   "execution_count": 2,
   "id": "064ec7a5-b4e2-4197-9a7c-d77c8968f73c",
   "metadata": {},
   "outputs": [],
   "source": [
    "## 目标检测模型\n",
    "\n",
    "# Faster R CNN 需重新训练\n",
    "# data/faster_r_cnn_triangle.py\n",
    "# checkpoint/faster_r_cnn_triangle_epoch_50_202305120846-76d9dde3.pth\n",
    "\n",
    "# RTMDet-nano\n",
    "# mmdetection/work_dirs/rtmdet_nano_320-8xb32_coco-person/rtmdet_nano_320-8xb32_coco-person.py\n",
    "# mmpose/demo/mmdetection_cfg/rtmdet_nano_320-8xb32_coco-person.py\n",
    "# mmdetection/checkpoint/rtmdet_nano_320-8xb32_coco-person_epoch_300-b4f1f380.pth\n",
    "\n",
    "## 关键点检测模型\n",
    "\n",
    "# mmpose/work_dirs/rtmpose-t_8xb256-420e_coco-256x192/rtmpose-t_8xb256-420e_coco-256x192.py\n",
    "# mmpose/configs/body_2d_keypoint/rtmpose/coco/rtmpose-t_8xb256-420e_coco-256x192.py\n",
    "# mmpose/checkpoint/rtmpose-t_8xb256-420e_coco-256x192-100-97c86b4e_20241204.pth"
   ]
  },
  {
   "cell_type": "markdown",
   "id": "8ed4d058-f23c-40d1-a662-910cce1be52b",
   "metadata": {},
   "source": [
    "## 单张图像-关键点检测预测"
   ]
  },
  {
   "cell_type": "code",
   "execution_count": 2,
   "id": "cab9972f-3694-4cb1-87f2-5a55d5feca5d",
   "metadata": {},
   "outputs": [
    {
     "name": "stdout",
     "output_type": "stream",
     "text": [
      "Loads checkpoint by local backend from path: mmdetection/checkpoint/rtmdet_nano_320-8xb32_coco-person_epoch_300-b4f1f380.pth\n",
      "Loads checkpoint by local backend from path: mmpose/checkpoint/rtmpose-t_8xb256-420e_coco-256x192-100-97c86b4e_20241204.pth\n",
      "/home/dshengq/anaconda3/envs/openmmlab/lib/python3.8/site-packages/mmengine/visualization/visualizer.py:196: UserWarning: Failed to add <class 'mmengine.visualization.vis_backend.LocalVisBackend'>, please provide the `save_dir` argument.\n",
      "  warnings.warn(f'Failed to add {vis_backend.__class__}, '\n",
      "/home/dshengq/anaconda3/envs/openmmlab/lib/python3.8/site-packages/torch/functional.py:504: UserWarning: torch.meshgrid: in an upcoming release, it will be required to pass the indexing argument. (Triggered internally at /opt/conda/conda-bld/pytorch_1682343998658/work/aten/src/ATen/native/TensorShape.cpp:3483.)\n",
      "  return _VF.meshgrid(tensors, **kwargs)  # type: ignore[attr-defined]\n",
      "/home/dshengq/anaconda3/envs/openmmlab/lib/python3.8/site-packages/mmpose/models/heads/coord_cls_heads/rtmcc_head.py:217: UserWarning: The predicted simcc values are normalized for visualization. This may cause discrepancy between the keypoint scores and the 1D heatmaps.\n",
      "  warnings.warn('The predicted simcc values are normalized for '\n",
      "/home/dshengq/anaconda3/envs/openmmlab/lib/python3.8/site-packages/mmengine/visualization/visualizer.py:683: UserWarning: Warning: The circle is out of bounds, the drawn circle may not be in the image\n",
      "  warnings.warn(\n",
      "/home/dshengq/anaconda3/envs/openmmlab/lib/python3.8/site-packages/json_tricks/encoders.py:419: UserWarning: json-tricks: numpy scalar serialization is experimental and may work differently in future versions\n",
      "  warnings.warn('json-tricks: numpy scalar serialization is experimental and may work differently in future versions')\n",
      "predictions have been saved at mmpose/outputs/G2_rtmdet-rtmpose/results_multi-person.json\n",
      "12/06 09:42:31 - mmengine - \u001b[4m\u001b[97mINFO\u001b[0m - the output image has been saved at mmpose/outputs/G2_rtmdet-rtmpose/multi-person.jpg\n"
     ]
    }
   ],
   "source": [
    "# Faster R CNN --> RTMPose\n",
    "!python mmpose/demo/topdown_demo_with_mmdet.py \\\n",
    "        mmpose/demo/mmdetection_cfg/rtmdet_nano_320-8xb32_coco-person.py \\\n",
    "        mmdetection/checkpoint/rtmdet_nano_320-8xb32_coco-person_epoch_300-b4f1f380.pth \\\n",
    "        mmpose/configs/body_2d_keypoint/rtmpose/coco/rtmpose-t_8xb256-420e_coco-256x192.py \\\n",
    "        mmpose/checkpoint/rtmpose-t_8xb256-420e_coco-256x192-100-97c86b4e_20241204.pth \\\n",
    "        --input data/multi-person.jpg \\\n",
    "        --output-root mmpose/outputs/G2_rtmdet-rtmpose \\\n",
    "        --device cuda:0 \\\n",
    "        --bbox-thr 0.5 \\\n",
    "        --kpt-thr 0.5 \\\n",
    "        --nms-thr 0.3 \\\n",
    "        --radius 36 \\\n",
    "        --thickness 30 \\\n",
    "        --draw-bbox \\\n",
    "        --draw-heatmap \\\n",
    "        --show-kpt-idx \\\n",
    "        --save-predictions "
   ]
  },
  {
   "cell_type": "code",
   "execution_count": 2,
   "id": "0696f950-5459-493c-bc75-e04123eab06f",
   "metadata": {},
   "outputs": [
    {
     "name": "stdout",
     "output_type": "stream",
     "text": [
      "Loads checkpoint by local backend from path: mmdetection/checkpoint/rtmdet_nano_320-8xb32_coco-person_epoch_300-b4f1f380.pth\n",
      "Loads checkpoint by local backend from path: mmpose/checkpoint/rtmpose-t_8xb256-420e_coco-256x192-100-97c86b4e_20241204.pth\n",
      "/home/dshengq/anaconda3/envs/openmmlab/lib/python3.8/site-packages/mmengine/visualization/visualizer.py:196: UserWarning: Failed to add <class 'mmengine.visualization.vis_backend.LocalVisBackend'>, please provide the `save_dir` argument.\n",
      "  warnings.warn(f'Failed to add {vis_backend.__class__}, '\n",
      "/home/dshengq/anaconda3/envs/openmmlab/lib/python3.8/site-packages/torch/functional.py:504: UserWarning: torch.meshgrid: in an upcoming release, it will be required to pass the indexing argument. (Triggered internally at /opt/conda/conda-bld/pytorch_1682343998658/work/aten/src/ATen/native/TensorShape.cpp:3483.)\n",
      "  return _VF.meshgrid(tensors, **kwargs)  # type: ignore[attr-defined]\n",
      "/home/dshengq/anaconda3/envs/openmmlab/lib/python3.8/site-packages/mmpose/models/heads/coord_cls_heads/rtmcc_head.py:217: UserWarning: The predicted simcc values are normalized for visualization. This may cause discrepancy between the keypoint scores and the 1D heatmaps.\n",
      "  warnings.warn('The predicted simcc values are normalized for '\n",
      "12/04 10:19:56 - mmengine - \u001b[4m\u001b[97mINFO\u001b[0m - the output image has been saved at outputs/G2_rtmdet-rtmpose/multi-person.jpg\n"
     ]
    }
   ],
   "source": [
    "# RTMDet --> RTMPose\n",
    "!python mmpose/demo/topdown_demo_with_mmdet.py \\\n",
    "        mmpose/demo/mmdetection_cfg/rtmdet_nano_320-8xb32_coco-person.py \\\n",
    "        mmdetection/checkpoint/rtmdet_nano_320-8xb32_coco-person_epoch_300-b4f1f380.pth \\\n",
    "        mmpose/configs/body_2d_keypoint/rtmpose/coco/rtmpose-t_8xb256-420e_coco-256x192.py \\\n",
    "        mmpose/checkpoint/rtmpose-t_8xb256-420e_coco-256x192-100-97c86b4e_20241204.pth \\\n",
    "        --input data/multi-person.jpg \\\n",
    "        --output-root mmpose/outputs/G2_rtmdet-rtmpose \\\n",
    "        --device cuda:0 \\\n",
    "        --bbox-thr 0.5 \\\n",
    "        --kpt-thr 0.5 \\\n",
    "        --nms-thr 0.3 \\\n",
    "        --radius 3 \\\n",
    "        --thickness 3 \\\n",
    "        --draw-bbox \\\n",
    "        --draw-heatmap \\\n",
    "        --show-kpt-idx"
   ]
  },
  {
   "cell_type": "markdown",
   "id": "dd73e683-9186-4868-ade0-ea8dfa5bacd8",
   "metadata": {},
   "source": [
    "## 视频-关键点检测预测"
   ]
  },
  {
   "cell_type": "code",
   "execution_count": 6,
   "id": "22c18333-b46a-4072-bc2a-42a82edf9c3e",
   "metadata": {},
   "outputs": [
    {
     "name": "stdout",
     "output_type": "stream",
     "text": [
      "Loads checkpoint by local backend from path: mmdetection/checkpoint/rtmdet_nano_320-8xb32_coco-person_epoch_300-b4f1f380.pth\n",
      "Loads checkpoint by local backend from path: mmpose/checkpoint/rtmpose-t_8xb256-420e_coco-256x192-100-97c86b4e_20241204.pth\n",
      "/home/dshengq/anaconda3/envs/openmmlab/lib/python3.8/site-packages/mmengine/visualization/visualizer.py:196: UserWarning: Failed to add <class 'mmengine.visualization.vis_backend.LocalVisBackend'>, please provide the `save_dir` argument.\n",
      "  warnings.warn(f'Failed to add {vis_backend.__class__}, '\n",
      "/home/dshengq/anaconda3/envs/openmmlab/lib/python3.8/site-packages/torch/functional.py:504: UserWarning: torch.meshgrid: in an upcoming release, it will be required to pass the indexing argument. (Triggered internally at /opt/conda/conda-bld/pytorch_1682343998658/work/aten/src/ATen/native/TensorShape.cpp:3483.)\n",
      "  return _VF.meshgrid(tensors, **kwargs)  # type: ignore[attr-defined]\n",
      "/home/dshengq/anaconda3/envs/openmmlab/lib/python3.8/site-packages/mmpose/models/heads/coord_cls_heads/rtmcc_head.py:217: UserWarning: The predicted simcc values are normalized for visualization. This may cause discrepancy between the keypoint scores and the 1D heatmaps.\n",
      "  warnings.warn('The predicted simcc values are normalized for '\n",
      "/home/dshengq/anaconda3/envs/openmmlab/lib/python3.8/site-packages/mmengine/visualization/visualizer.py:683: UserWarning: Warning: The circle is out of bounds, the drawn circle may not be in the image\n",
      "  warnings.warn(\n",
      "/home/dshengq/anaconda3/envs/openmmlab/lib/python3.8/site-packages/mmengine/visualization/visualizer.py:508: UserWarning: Warning: The text is out of bounds, the drawn text may not be in the image\n",
      "  warnings.warn(\n",
      "/home/dshengq/anaconda3/envs/openmmlab/lib/python3.8/site-packages/mmengine/visualization/visualizer.py:760: UserWarning: Warning: The bbox is out of bounds, the drawn bbox may not be in the image\n",
      "  warnings.warn(\n",
      "/home/dshengq/anaconda3/envs/openmmlab/lib/python3.8/site-packages/mmengine/visualization/visualizer.py:831: UserWarning: Warning: The polygon is out of bounds, the drawn polygon may not be in the image\n",
      "  warnings.warn(\n",
      "/home/dshengq/anaconda3/envs/openmmlab/lib/python3.8/site-packages/mmpose/structures/utils.py:36: UserWarning: Try to merge an empty list of data samples.\n",
      "  warnings.warn('Try to merge an empty list of data samples.')\n",
      "/home/dshengq/anaconda3/envs/openmmlab/lib/python3.8/site-packages/json_tricks/encoders.py:419: UserWarning: json-tricks: numpy scalar serialization is experimental and may work differently in future versions\n",
      "  warnings.warn('json-tricks: numpy scalar serialization is experimental and may work differently in future versions')\n",
      "predictions have been saved at mmpose/outputs/G2_rtmdet-rtmpose_Video/results_montage.json\n",
      "12/06 09:58:05 - mmengine - \u001b[4m\u001b[97mINFO\u001b[0m - the output video has been saved at mmpose/outputs/G2_rtmdet-rtmpose_Video/montage.mp4\n"
     ]
    }
   ],
   "source": [
    "# RTMDet --> RTMPose\n",
    "!python mmpose/demo/topdown_demo_with_mmdet.py \\\n",
    "        mmpose/demo/mmdetection_cfg/rtmdet_nano_320-8xb32_coco-person.py \\\n",
    "        mmdetection/checkpoint/rtmdet_nano_320-8xb32_coco-person_epoch_300-b4f1f380.pth \\\n",
    "        mmpose/configs/body_2d_keypoint/rtmpose/coco/rtmpose-t_8xb256-420e_coco-256x192.py \\\n",
    "        mmpose/checkpoint/rtmpose-t_8xb256-420e_coco-256x192-100-97c86b4e_20241204.pth \\\n",
    "        --input  data/montage.mp4 \\\n",
    "        --output-root mmpose/outputs/G2_rtmdet-rtmpose_Video \\\n",
    "        --device cuda:0 \\\n",
    "        --bbox-thr 0.5 \\\n",
    "        --kpt-thr 0.5 \\\n",
    "        --nms-thr 0.3 \\\n",
    "        --radius 4 \\\n",
    "        --thickness 4 \\\n",
    "        --draw-bbox \\\n",
    "        --draw-heatmap \\\n",
    "        --show-kpt-idx \\\n",
    "        --save-predictions "
   ]
  }
 ],
 "metadata": {
  "kernelspec": {
   "display_name": "Python 3 (ipykernel)",
   "language": "python",
   "name": "python3"
  },
  "language_info": {
   "codemirror_mode": {
    "name": "ipython",
    "version": 3
   },
   "file_extension": ".py",
   "mimetype": "text/x-python",
   "name": "python",
   "nbconvert_exporter": "python",
   "pygments_lexer": "ipython3",
   "version": "3.8.20"
  }
 },
 "nbformat": 4,
 "nbformat_minor": 5
}
